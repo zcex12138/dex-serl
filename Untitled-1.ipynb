{
 "cells": [
  {
   "cell_type": "code",
   "execution_count": null,
   "id": "dbacce21",
   "metadata": {},
   "outputs": [
    {
     "data": {
      "text/plain": [
       "['__class__', '__copy__', '__deepcopy__', '__delattr__', '__dir__', '__doc__', '__eq__', '__format__', '__ge__', '__getattribute__', '__getstate__', '__gt__', '__hash__', '__init__', '__init_subclass__', '__le__', '__lt__', '__module__', '__ne__', '__new__', '__reduce__', '__reduce_ex__', '__repr__', '__setattr__', '__setstate__', '__sizeof__', '__str__', '__subclasshook__', '_address', '_from_model_ptr', '_pybind11_conduit_v1_', '_size_fields', '_sizes', 'actuator', 'actuator_acc0', 'actuator_actadr', 'actuator_actearly', 'actuator_actlimited', 'actuator_actnum', 'actuator_actrange', 'actuator_biasprm', 'actuator_biastype', 'actuator_cranklength', 'actuator_ctrllimited', 'actuator_ctrlrange', 'actuator_dynprm', 'actuator_dyntype', 'actuator_forcelimited', 'actuator_forcerange', 'actuator_gainprm', 'actuator_gaintype', 'actuator_gear', 'actuator_group', 'actuator_length0', 'actuator_lengthrange', 'actuator_plugin', 'actuator_trnid', 'actuator_trntype', 'actuator_user', 'bind', 'bind_scalar', 'body', 'body_bvhadr', 'body_bvhnum', 'body_conaffinity', 'body_contype', 'body_dofadr', 'body_dofnum', 'body_geomadr', 'body_geomnum', 'body_gravcomp', 'body_inertia', 'body_invweight0', 'body_ipos', 'body_iquat', 'body_jntadr', 'body_jntnum', 'body_margin', 'body_mass', 'body_mocapid', 'body_parentid', 'body_plugin', 'body_pos', 'body_quat', 'body_rootid', 'body_sameframe', 'body_simple', 'body_subtreemass', 'body_treeid', 'body_user', 'body_weldid', 'bvh_aabb', 'bvh_child', 'bvh_depth', 'bvh_nodeid', 'cam', 'cam_bodyid', 'cam_fovy', 'cam_intrinsic', 'cam_ipd', 'cam_mat0', 'cam_mode', 'cam_orthographic', 'cam_pos', 'cam_pos0', 'cam_poscom0', 'cam_quat', 'cam_resolution', 'cam_sensorsize', 'cam_targetbodyid', 'cam_user', 'camera', 'dof_M0', 'dof_Madr', 'dof_armature', 'dof_bodyid', 'dof_damping', 'dof_frictionloss', 'dof_invweight0', 'dof_jntid', 'dof_parentid', 'dof_simplenum', 'dof_solimp', 'dof_solref', 'dof_treeid', 'eq', 'eq_active0', 'eq_data', 'eq_obj1id', 'eq_obj2id', 'eq_objtype', 'eq_solimp', 'eq_solref', 'eq_type', 'equality', 'exclude', 'exclude_signature', 'flex_activelayers', 'flex_bvhadr', 'flex_bvhnum', 'flex_centered', 'flex_conaffinity', 'flex_condim', 'flex_contype', 'flex_damping', 'flex_dim', 'flex_edge', 'flex_edgeadr', 'flex_edgedamping', 'flex_edgeequality', 'flex_edgenum', 'flex_edgestiffness', 'flex_elem', 'flex_elemadr', 'flex_elemdataadr', 'flex_elemedge', 'flex_elemedgeadr', 'flex_elemlayer', 'flex_elemnum', 'flex_elemtexcoord', 'flex_evpair', 'flex_evpairadr', 'flex_evpairnum', 'flex_flatskin', 'flex_friction', 'flex_gap', 'flex_group', 'flex_internal', 'flex_interp', 'flex_margin', 'flex_matid', 'flex_node', 'flex_node0', 'flex_nodeadr', 'flex_nodebodyid', 'flex_nodenum', 'flex_priority', 'flex_radius', 'flex_rgba', 'flex_rigid', 'flex_selfcollide', 'flex_shell', 'flex_shelldataadr', 'flex_shellnum', 'flex_solimp', 'flex_solmix', 'flex_solref', 'flex_stiffness', 'flex_texcoord', 'flex_texcoordadr', 'flex_vert', 'flex_vert0', 'flex_vertadr', 'flex_vertbodyid', 'flex_vertnum', 'flexedge_invweight0', 'flexedge_length0', 'flexedge_rigid', 'from_binary_path', 'from_xml_path', 'from_xml_string', 'geom', 'geom_aabb', 'geom_bodyid', 'geom_conaffinity', 'geom_condim', 'geom_contype', 'geom_dataid', 'geom_fluid', 'geom_friction', 'geom_gap', 'geom_group', 'geom_margin', 'geom_matid', 'geom_plugin', 'geom_pos', 'geom_priority', 'geom_quat', 'geom_rbound', 'geom_rgba', 'geom_sameframe', 'geom_size', 'geom_solimp', 'geom_solmix', 'geom_solref', 'geom_type', 'geom_user', 'hfield', 'hfield_adr', 'hfield_data', 'hfield_ncol', 'hfield_nrow', 'hfield_pathadr', 'hfield_size', 'jnt', 'jnt_actfrclimited', 'jnt_actfrcrange', 'jnt_actgravcomp', 'jnt_axis', 'jnt_bodyid', 'jnt_dofadr', 'jnt_group', 'jnt_limited', 'jnt_margin', 'jnt_pos', 'jnt_qposadr', 'jnt_range', 'jnt_solimp', 'jnt_solref', 'jnt_stiffness', 'jnt_type', 'jnt_user', 'joint', 'key', 'key_act', 'key_ctrl', 'key_mpos', 'key_mquat', 'key_qpos', 'key_qvel', 'key_time', 'keyframe', 'light', 'light_active', 'light_ambient', 'light_attenuation', 'light_bodyid', 'light_bulbradius', 'light_castshadow', 'light_cutoff', 'light_diffuse', 'light_dir', 'light_dir0', 'light_directional', 'light_exponent', 'light_mode', 'light_pos', 'light_pos0', 'light_poscom0', 'light_specular', 'light_targetbodyid', 'mat', 'mat_emission', 'mat_metallic', 'mat_reflectance', 'mat_rgba', 'mat_roughness', 'mat_shininess', 'mat_specular', 'mat_texid', 'mat_texrepeat', 'mat_texuniform', 'material', 'mesh', 'mesh_bvhadr', 'mesh_bvhnum', 'mesh_face', 'mesh_faceadr', 'mesh_facenormal', 'mesh_facenum', 'mesh_facetexcoord', 'mesh_graph', 'mesh_graphadr', 'mesh_normal', 'mesh_normaladr', 'mesh_normalnum', 'mesh_pathadr', 'mesh_polyadr', 'mesh_polymap', 'mesh_polymapadr', 'mesh_polymapnum', 'mesh_polynormal', 'mesh_polynum', 'mesh_polyvert', 'mesh_polyvertadr', 'mesh_polyvertnum', 'mesh_pos', 'mesh_quat', 'mesh_scale', 'mesh_texcoord', 'mesh_texcoordadr', 'mesh_texcoordnum', 'mesh_vert', 'mesh_vertadr', 'mesh_vertnum', 'nB', 'nC', 'nD', 'nJmom', 'nM', 'na', 'name_actuatoradr', 'name_bodyadr', 'name_camadr', 'name_eqadr', 'name_excludeadr', 'name_flexadr', 'name_geomadr', 'name_hfieldadr', 'name_jntadr', 'name_keyadr', 'name_lightadr', 'name_matadr', 'name_meshadr', 'name_numericadr', 'name_pairadr', 'name_pluginadr', 'name_sensoradr', 'name_siteadr', 'name_skinadr', 'name_tendonadr', 'name_texadr', 'name_textadr', 'name_tupleadr', 'names', 'names_map', 'narena', 'nbody', 'nbuffer', 'nbvh', 'nbvhdynamic', 'nbvhstatic', 'ncam', 'nconmax', 'nemax', 'neq', 'nexclude', 'nflex', 'nflexedge', 'nflexelem', 'nflexelemdata', 'nflexelemedge', 'nflexevpair', 'nflexnode', 'nflexshelldata', 'nflextexcoord', 'nflexvert', 'ngeom', 'ngravcomp', 'nhfield', 'nhfielddata', 'njmax', 'njnt', 'nkey', 'nlight', 'nmat', 'nmesh', 'nmeshface', 'nmeshgraph', 'nmeshnormal', 'nmeshpoly', 'nmeshpolymap', 'nmeshpolyvert', 'nmeshtexcoord', 'nmeshvert', 'nmocap', 'nnames', 'nnames_map', 'nnumeric', 'nnumericdata', 'npair', 'npaths', 'nplugin', 'npluginattr', 'npluginstate', 'nq', 'nsensor', 'nsensordata', 'nsite', 'nskin', 'nskinbone', 'nskinbonevert', 'nskinface', 'nskintexvert', 'nskinvert', 'ntendon', 'ntex', 'ntexdata', 'ntext', 'ntextdata', 'ntree', 'ntuple', 'ntupledata', 'nu', 'numeric', 'numeric_adr', 'numeric_data', 'numeric_size', 'nuser_actuator', 'nuser_body', 'nuser_cam', 'nuser_geom', 'nuser_jnt', 'nuser_sensor', 'nuser_site', 'nuser_tendon', 'nuserdata', 'nv', 'nwrap', 'opt', 'pair', 'pair_dim', 'pair_friction', 'pair_gap', 'pair_geom1', 'pair_geom2', 'pair_margin', 'pair_signature', 'pair_solimp', 'pair_solref', 'pair_solreffriction', 'paths', 'plugin', 'plugin_attr', 'plugin_attradr', 'plugin_stateadr', 'plugin_statenum', 'qpos0', 'qpos_spring', 'sensor', 'sensor_adr', 'sensor_cutoff', 'sensor_datatype', 'sensor_dim', 'sensor_needstage', 'sensor_noise', 'sensor_objid', 'sensor_objtype', 'sensor_plugin', 'sensor_refid', 'sensor_reftype', 'sensor_type', 'sensor_user', 'signature', 'site', 'site_bodyid', 'site_group', 'site_matid', 'site_pos', 'site_quat', 'site_rgba', 'site_sameframe', 'site_size', 'site_type', 'site_user', 'skin', 'skin_boneadr', 'skin_bonebindpos', 'skin_bonebindquat', 'skin_bonebodyid', 'skin_bonenum', 'skin_bonevertadr', 'skin_bonevertid', 'skin_bonevertnum', 'skin_bonevertweight', 'skin_face', 'skin_faceadr', 'skin_facenum', 'skin_group', 'skin_inflate', 'skin_matid', 'skin_pathadr', 'skin_rgba', 'skin_texcoord', 'skin_texcoordadr', 'skin_vert', 'skin_vertadr', 'skin_vertnum', 'stat', 'tendon', 'tendon_actfrclimited', 'tendon_actfrcrange', 'tendon_adr', 'tendon_armature', 'tendon_damping', 'tendon_frictionloss', 'tendon_group', 'tendon_invweight0', 'tendon_length0', 'tendon_lengthspring', 'tendon_limited', 'tendon_margin', 'tendon_matid', 'tendon_num', 'tendon_range', 'tendon_rgba', 'tendon_solimp_fri', 'tendon_solimp_lim', 'tendon_solref_fri', 'tendon_solref_lim', 'tendon_stiffness', 'tendon_user', 'tendon_width', 'tex', 'tex_adr', 'tex_data', 'tex_height', 'tex_nchannel', 'tex_pathadr', 'tex_type', 'tex_width', 'text_adr', 'text_data', 'text_size', 'texture', 'tuple', 'tuple_adr', 'tuple_objid', 'tuple_objprm', 'tuple_objtype', 'tuple_size', 'vis', 'wrap_objid', 'wrap_prm', 'wrap_type']\n"
      ]
     },
     "metadata": {},
     "output_type": "display_data"
    }
   ],
   "source": [
    "import mujoco\n",
    "import matplotlib.pyplot as plt\n",
    "from gymnasium.envs.mujoco.mujoco_rendering import MujocoRenderer\n",
    "import queue\n",
    "import threading\n",
    "from collections import OrderedDict\n",
    "import gymnasium as gym\n",
    "xml_path = '/home/jzq/github/dex-serl/franka_sim/franka_sim/envs/xmls/dpfrankacube/dphand_franka_arena.xml'\n",
    "# xml_path = '/home/jzq/github/dex-serl/franka_sim/franka_sim/envs/xmls/dpfrankacube/DPhand/dphand_arena.xml'\n",
    "\n",
    "model = mujoco.MjModel.from_xml_path(xml_path)\n",
    "data = mujoco.MjData(model)\n",
    "view = MujocoRenderer(model,data, 128,128)\n",
    "# q = view.render(render_mode=\"human\")\n",
    "\n",
    "cams = [model.camera(i).name for i in range(model.ncam)]\n",
    "class ImageDisplayer():\n",
    "    def __init__(self, model):\n",
    "        self.model = model\n",
    "        self.data = mujoco.MjData(model)\n",
    "        self.renderer = MujocoRenderer(self.model, self.data, height=128, width=128)\n",
    "        self.cams = [self.model.camera(i).name for i in range(model.ncam)]\n",
    "        self.cap = OrderedDict()\n",
    "        for cam in self.cams:\n",
    "            self.cap[cam] = queue.Queue(maxsize=1)\n",
    "        self.t = threading.Thread(target=self.get_im)\n",
    "        self.t.start()\n",
    "    def get_im(self):\n",
    "        for idx, cam in enumerate(self.cams):\n",
    "            # self.renderer.update_scene(self.data, camera=idx)\n",
    "            rgb_arrays=self.renderer.render(render_mode='rgb_array')\n",
    "            print(self.cap)\n",
    "            print(rgb_arrays.shape)\n",
    "            self.cap[cam].put(rgb_arrays)\n",
    "\n",
    "imagedisplayer = ImageDisplayer(model=model)\n",
    "import numpy as np\n",
    "[-1]*7 + [-np.inf] * 22\n",
    "print(dir(model))\n"
   ]
  },
  {
   "cell_type": "code",
   "execution_count": null,
   "id": "938d193b",
   "metadata": {},
   "outputs": [
    {
     "data": {
      "text/plain": [
       "['__class__', '__copy__', '__deepcopy__', '__delattr__', '__dir__', '__doc__', '__eq__', '__format__', '__ge__', '__getattribute__', '__getstate__', '__gt__', '__hash__', '__init__', '__init_subclass__', '__le__', '__lt__', '__module__', '__ne__', '__new__', '__reduce__', '__reduce_ex__', '__repr__', '__setattr__', '__setstate__', '__sizeof__', '__str__', '__subclasshook__', '_address', '_from_model_ptr', '_pybind11_conduit_v1_', '_size_fields', '_sizes', 'actuator', 'actuator_acc0', 'actuator_actadr', 'actuator_actearly', 'actuator_actlimited', 'actuator_actnum', 'actuator_actrange', 'actuator_biasprm', 'actuator_biastype', 'actuator_cranklength', 'actuator_ctrllimited', 'actuator_ctrlrange', 'actuator_dynprm', 'actuator_dyntype', 'actuator_forcelimited', 'actuator_forcerange', 'actuator_gainprm', 'actuator_gaintype', 'actuator_gear', 'actuator_group', 'actuator_length0', 'actuator_lengthrange', 'actuator_plugin', 'actuator_trnid', 'actuator_trntype', 'actuator_user', 'bind', 'bind_scalar', 'body', 'body_bvhadr', 'body_bvhnum', 'body_conaffinity', 'body_contype', 'body_dofadr', 'body_dofnum', 'body_geomadr', 'body_geomnum', 'body_gravcomp', 'body_inertia', 'body_invweight0', 'body_ipos', 'body_iquat', 'body_jntadr', 'body_jntnum', 'body_margin', 'body_mass', 'body_mocapid', 'body_parentid', 'body_plugin', 'body_pos', 'body_quat', 'body_rootid', 'body_sameframe', 'body_simple', 'body_subtreemass', 'body_treeid', 'body_user', 'body_weldid', 'bvh_aabb', 'bvh_child', 'bvh_depth', 'bvh_nodeid', 'cam', 'cam_bodyid', 'cam_fovy', 'cam_intrinsic', 'cam_ipd', 'cam_mat0', 'cam_mode', 'cam_orthographic', 'cam_pos', 'cam_pos0', 'cam_poscom0', 'cam_quat', 'cam_resolution', 'cam_sensorsize', 'cam_targetbodyid', 'cam_user', 'camera', 'dof_M0', 'dof_Madr', 'dof_armature', 'dof_bodyid', 'dof_damping', 'dof_frictionloss', 'dof_invweight0', 'dof_jntid', 'dof_parentid', 'dof_simplenum', 'dof_solimp', 'dof_solref', 'dof_treeid', 'eq', 'eq_active0', 'eq_data', 'eq_obj1id', 'eq_obj2id', 'eq_objtype', 'eq_solimp', 'eq_solref', 'eq_type', 'equality', 'exclude', 'exclude_signature', 'flex_activelayers', 'flex_bvhadr', 'flex_bvhnum', 'flex_centered', 'flex_conaffinity', 'flex_condim', 'flex_contype', 'flex_damping', 'flex_dim', 'flex_edge', 'flex_edgeadr', 'flex_edgedamping', 'flex_edgeequality', 'flex_edgenum', 'flex_edgestiffness', 'flex_elem', 'flex_elemadr', 'flex_elemdataadr', 'flex_elemedge', 'flex_elemedgeadr', 'flex_elemlayer', 'flex_elemnum', 'flex_elemtexcoord', 'flex_evpair', 'flex_evpairadr', 'flex_evpairnum', 'flex_flatskin', 'flex_friction', 'flex_gap', 'flex_group', 'flex_internal', 'flex_interp', 'flex_margin', 'flex_matid', 'flex_node', 'flex_node0', 'flex_nodeadr', 'flex_nodebodyid', 'flex_nodenum', 'flex_priority', 'flex_radius', 'flex_rgba', 'flex_rigid', 'flex_selfcollide', 'flex_shell', 'flex_shelldataadr', 'flex_shellnum', 'flex_solimp', 'flex_solmix', 'flex_solref', 'flex_stiffness', 'flex_texcoord', 'flex_texcoordadr', 'flex_vert', 'flex_vert0', 'flex_vertadr', 'flex_vertbodyid', 'flex_vertnum', 'flexedge_invweight0', 'flexedge_length0', 'flexedge_rigid', 'from_binary_path', 'from_xml_path', 'from_xml_string', 'geom', 'geom_aabb', 'geom_bodyid', 'geom_conaffinity', 'geom_condim', 'geom_contype', 'geom_dataid', 'geom_fluid', 'geom_friction', 'geom_gap', 'geom_group', 'geom_margin', 'geom_matid', 'geom_plugin', 'geom_pos', 'geom_priority', 'geom_quat', 'geom_rbound', 'geom_rgba', 'geom_sameframe', 'geom_size', 'geom_solimp', 'geom_solmix', 'geom_solref', 'geom_type', 'geom_user', 'hfield', 'hfield_adr', 'hfield_data', 'hfield_ncol', 'hfield_nrow', 'hfield_pathadr', 'hfield_size', 'jnt', 'jnt_actfrclimited', 'jnt_actfrcrange', 'jnt_actgravcomp', 'jnt_axis', 'jnt_bodyid', 'jnt_dofadr', 'jnt_group', 'jnt_limited', 'jnt_margin', 'jnt_pos', 'jnt_qposadr', 'jnt_range', 'jnt_solimp', 'jnt_solref', 'jnt_stiffness', 'jnt_type', 'jnt_user', 'joint', 'key', 'key_act', 'key_ctrl', 'key_mpos', 'key_mquat', 'key_qpos', 'key_qvel', 'key_time', 'keyframe', 'light', 'light_active', 'light_ambient', 'light_attenuation', 'light_bodyid', 'light_bulbradius', 'light_castshadow', 'light_cutoff', 'light_diffuse', 'light_dir', 'light_dir0', 'light_directional', 'light_exponent', 'light_mode', 'light_pos', 'light_pos0', 'light_poscom0', 'light_specular', 'light_targetbodyid', 'mat', 'mat_emission', 'mat_metallic', 'mat_reflectance', 'mat_rgba', 'mat_roughness', 'mat_shininess', 'mat_specular', 'mat_texid', 'mat_texrepeat', 'mat_texuniform', 'material', 'mesh', 'mesh_bvhadr', 'mesh_bvhnum', 'mesh_face', 'mesh_faceadr', 'mesh_facenormal', 'mesh_facenum', 'mesh_facetexcoord', 'mesh_graph', 'mesh_graphadr', 'mesh_normal', 'mesh_normaladr', 'mesh_normalnum', 'mesh_pathadr', 'mesh_polyadr', 'mesh_polymap', 'mesh_polymapadr', 'mesh_polymapnum', 'mesh_polynormal', 'mesh_polynum', 'mesh_polyvert', 'mesh_polyvertadr', 'mesh_polyvertnum', 'mesh_pos', 'mesh_quat', 'mesh_scale', 'mesh_texcoord', 'mesh_texcoordadr', 'mesh_texcoordnum', 'mesh_vert', 'mesh_vertadr', 'mesh_vertnum', 'nB', 'nC', 'nD', 'nJmom', 'nM', 'na', 'name_actuatoradr', 'name_bodyadr', 'name_camadr', 'name_eqadr', 'name_excludeadr', 'name_flexadr', 'name_geomadr', 'name_hfieldadr', 'name_jntadr', 'name_keyadr', 'name_lightadr', 'name_matadr', 'name_meshadr', 'name_numericadr', 'name_pairadr', 'name_pluginadr', 'name_sensoradr', 'name_siteadr', 'name_skinadr', 'name_tendonadr', 'name_texadr', 'name_textadr', 'name_tupleadr', 'names', 'names_map', 'narena', 'nbody', 'nbuffer', 'nbvh', 'nbvhdynamic', 'nbvhstatic', 'ncam', 'nconmax', 'nemax', 'neq', 'nexclude', 'nflex', 'nflexedge', 'nflexelem', 'nflexelemdata', 'nflexelemedge', 'nflexevpair', 'nflexnode', 'nflexshelldata', 'nflextexcoord', 'nflexvert', 'ngeom', 'ngravcomp', 'nhfield', 'nhfielddata', 'njmax', 'njnt', 'nkey', 'nlight', 'nmat', 'nmesh', 'nmeshface', 'nmeshgraph', 'nmeshnormal', 'nmeshpoly', 'nmeshpolymap', 'nmeshpolyvert', 'nmeshtexcoord', 'nmeshvert', 'nmocap', 'nnames', 'nnames_map', 'nnumeric', 'nnumericdata', 'npair', 'npaths', 'nplugin', 'npluginattr', 'npluginstate', 'nq', 'nsensor', 'nsensordata', 'nsite', 'nskin', 'nskinbone', 'nskinbonevert', 'nskinface', 'nskintexvert', 'nskinvert', 'ntendon', 'ntex', 'ntexdata', 'ntext', 'ntextdata', 'ntree', 'ntuple', 'ntupledata', 'nu', 'numeric', 'numeric_adr', 'numeric_data', 'numeric_size', 'nuser_actuator', 'nuser_body', 'nuser_cam', 'nuser_geom', 'nuser_jnt', 'nuser_sensor', 'nuser_site', 'nuser_tendon', 'nuserdata', 'nv', 'nwrap', 'opt', 'pair', 'pair_dim', 'pair_friction', 'pair_gap', 'pair_geom1', 'pair_geom2', 'pair_margin', 'pair_signature', 'pair_solimp', 'pair_solref', 'pair_solreffriction', 'paths', 'plugin', 'plugin_attr', 'plugin_attradr', 'plugin_stateadr', 'plugin_statenum', 'qpos0', 'qpos_spring', 'sensor', 'sensor_adr', 'sensor_cutoff', 'sensor_datatype', 'sensor_dim', 'sensor_needstage', 'sensor_noise', 'sensor_objid', 'sensor_objtype', 'sensor_plugin', 'sensor_refid', 'sensor_reftype', 'sensor_type', 'sensor_user', 'signature', 'site', 'site_bodyid', 'site_group', 'site_matid', 'site_pos', 'site_quat', 'site_rgba', 'site_sameframe', 'site_size', 'site_type', 'site_user', 'skin', 'skin_boneadr', 'skin_bonebindpos', 'skin_bonebindquat', 'skin_bonebodyid', 'skin_bonenum', 'skin_bonevertadr', 'skin_bonevertid', 'skin_bonevertnum', 'skin_bonevertweight', 'skin_face', 'skin_faceadr', 'skin_facenum', 'skin_group', 'skin_inflate', 'skin_matid', 'skin_pathadr', 'skin_rgba', 'skin_texcoord', 'skin_texcoordadr', 'skin_vert', 'skin_vertadr', 'skin_vertnum', 'stat', 'tendon', 'tendon_actfrclimited', 'tendon_actfrcrange', 'tendon_adr', 'tendon_armature', 'tendon_damping', 'tendon_frictionloss', 'tendon_group', 'tendon_invweight0', 'tendon_length0', 'tendon_lengthspring', 'tendon_limited', 'tendon_margin', 'tendon_matid', 'tendon_num', 'tendon_range', 'tendon_rgba', 'tendon_solimp_fri', 'tendon_solimp_lim', 'tendon_solref_fri', 'tendon_solref_lim', 'tendon_stiffness', 'tendon_user', 'tendon_width', 'tex', 'tex_adr', 'tex_data', 'tex_height', 'tex_nchannel', 'tex_pathadr', 'tex_type', 'tex_width', 'text_adr', 'text_data', 'text_size', 'texture', 'tuple', 'tuple_adr', 'tuple_objid', 'tuple_objprm', 'tuple_objtype', 'tuple_size', 'vis', 'wrap_objid', 'wrap_prm', 'wrap_type']\n"
      ]
     },
     "metadata": {},
     "output_type": "display_data"
    }
   ],
   "source": [
    "\n",
    "\n",
    "import mujoco\n",
    "import matplotlib.pyplot as plt\n",
    "from gymnasium.envs.mujoco.mujoco_rendering import MujocoRenderer\n",
    "import queue\n",
    "import threading\n",
    "from collections import OrderedDict\n",
    "import gymnasium as gym\n",
    "\n",
    "\n",
    "xml_path = '/home/jzq/github/dex-serl/franka_sim/franka_sim/envs/xmls/dpfrankacube/dphand_franka_arena.xml'\n",
    "# xml_path = '/home/jzq/github/dex-serl/franka_sim/franka_sim/envs/xmls/dpfrankacube/DPhand/dphand_arena.xml'\n",
    "\n",
    "model = mujoco.MjModel.from_xml_path(xml_path)\n",
    "data = mujoco.MjData(model)\n",
    "\n",
    "view = MujocoRenderer(model,data, 128,128)\n",
    "# q = view.render(render_mode=\"human\")\n",
    "\n",
    "cams = [model.camera(i).name for i in range(model.ncam)]\n",
    "\n",
    "class ImageDisplayer():\n",
    "    def __init__(self, model):\n",
    "        self.model = model\n",
    "        self.data = mujoco.MjData(model)\n",
    "\n",
    "        self.renderer = MujocoRenderer(self.model, self.data, height=128, width=128)\n",
    "\n",
    "        self.cams = [self.model.camera(i).name for i in range(model.ncam)]\n",
    "        self.cap = OrderedDict()\n",
    "        for cam in self.cams:\n",
    "            self.cap[cam] = queue.Queue(maxsize=1)\n",
    "\n",
    "        self.t = threading.Thread(target=self.get_im)\n",
    "        self.t.start()\n",
    "\n",
    "    def get_im(self):\n",
    "        for idx, cam in enumerate(self.cams):\n",
    "            # self.renderer.update_scene(self.data, camera=idx)\n",
    "            rgb_arrays=self.renderer.render(render_mode='rgb_array')\n",
    "            print(self.cap)\n",
    "            print(rgb_arrays.shape)\n",
    "            self.cap[cam].put(rgb_arrays)\n",
    "\n",
    "\n",
    "imagedisplayer = ImageDisplayer(model=model)\n",
    "\n",
    "\n",
    "import numpy as np\n",
    "\n",
    "[-1]*7 + [-np.inf] * 22\n",
    "print(dir(model))\n",
    "\n",
    "\n"
   ]
  },
  {
   "cell_type": "code",
   "execution_count": null,
   "id": "d674ea99",
   "metadata": {},
   "outputs": [
    {
     "data": {
      "text/plain": [
       "<bound method PyCapsule.sensor of <mujoco._structs.MjData object at 0x7fc148e867f0>>\n"
      ]
     },
     "metadata": {},
     "output_type": "display_data"
    }
   ],
   "source": [
    "data.sensor"
   ]
  },
  {
   "cell_type": "code",
   "execution_count": null,
   "id": "ede19cdc",
   "metadata": {},
   "outputs": [
    {
     "data": {
      "text/plain": [
       "Traceback (most recent call last):\n",
       "  File \"/home/jzq/.vscode/extensions/ms-python.python-2025.6.1-linux-x64/python_files/python_server.py\", line 133, in exec_user_input\n",
       "    retval = callable_(user_input, user_globals)\n",
       "             ^^^^^^^^^^^^^^^^^^^^^^^^^^^^^^^^^^^\n",
       "  File \"<string>\", line 1, in <module>\n",
       "AttributeError: 'mujoco._structs.MjData' object has no attribute 'nsensor'\n",
       "\n"
      ]
     },
     "metadata": {},
     "output_type": "display_data"
    }
   ],
   "source": [
    "data.nsensor"
   ]
  },
  {
   "cell_type": "code",
   "execution_count": null,
   "id": "96b64b80",
   "metadata": {},
   "outputs": [
    {
     "data": {
      "text/plain": [
       "Traceback (most recent call last):\n",
       "  File \"/home/jzq/.vscode/extensions/ms-python.python-2025.6.1-linux-x64/python_files/python_server.py\", line 133, in exec_user_input\n",
       "    retval = callable_(user_input, user_globals)\n",
       "             ^^^^^^^^^^^^^^^^^^^^^^^^^^^^^^^^^^^\n",
       "  File \"<string>\", line 1, in <module>\n",
       "KeyError: \"Invalid name ''. Valid names: ['Forearm_Wrist-Flexion_pos', 'Index-MCP_Index-MCP-Abduction_pos', 'Index-PM_Index-DIP-Flexion_pos', 'Index-PP_Index-PIP-Flexion_pos', 'Little-MCP_Little-MCP-Abduction_pos', 'Little-PM_Little-DIP-Flexion_pos', 'Little-PP_Little-PIP-Flexion_pos', 'Middle-MCP_Middle-MCP-Abduction_pos', 'Middle-PM_Middle-DIP-Flexion_pos', 'Middle-PP_Middle-PIP-Flexion_pos', 'Palm_Index-MCP-Flexion_pos', 'Palm_Little-MCP-Flexion_pos', 'Palm_Middle-MCP-Flexion_pos', 'Palm_Ring-MCP-Flexion_pos', 'Palm_Thumb-MCP-Flexion_pos', 'Ring-MCP_Ring-MCP-Abduction_pos', 'Ring-PM_Ring-DIP-Flexion_pos', 'Ring-PP_Ring-PIP-Flexion_pos', 'Thumb-MCP_Thumb-MCP-Abduction_pos', 'Thumb-PM_Thumb-DIP-Flexion_pos', 'Thumb-PP_Thumb-PIP-Flexion_pos', 'Wrist_Wrist-Abduction_pos', 'block_pos', 'block_quat', 'panda/wrist_force', 'target_pos', 'target_quat', 'tcp_angvel', 'tcp_linvel', 'tcp_pos', 'tcp_quat']\"\n",
       "\n"
      ]
     },
     "metadata": {},
     "output_type": "display_data"
    }
   ],
   "source": [
    "data.sensor(\"\")"
   ]
  },
  {
   "cell_type": "code",
   "execution_count": null,
   "id": "ff692b66",
   "metadata": {},
   "outputs": [
    {
     "data": {
      "text/plain": [
       "Traceback (most recent call last):\n",
       "  File \"/home/jzq/.vscode/extensions/ms-python.python-2025.6.1-linux-x64/python_files/python_server.py\", line 133, in exec_user_input\n",
       "    retval = callable_(user_input, user_globals)\n",
       "             ^^^^^^^^^^^^^^^^^^^^^^^^^^^^^^^^^^^\n",
       "  File \"<string>\", line 1, in <module>\n",
       "AttributeError: 'builtin_function_or_method' object has no attribute 'key'\n",
       "\n"
      ]
     },
     "metadata": {},
     "output_type": "display_data"
    }
   ],
   "source": [
    "data.sensor.key()"
   ]
  },
  {
   "cell_type": "code",
   "execution_count": null,
   "id": "c3ad7b78",
   "metadata": {},
   "outputs": [
    {
     "data": {
      "text/plain": [
       "Traceback (most recent call last):\n",
       "  File \"/home/jzq/.vscode/extensions/ms-python.python-2025.6.1-linux-x64/python_files/python_server.py\", line 133, in exec_user_input\n",
       "    retval = callable_(user_input, user_globals)\n",
       "             ^^^^^^^^^^^^^^^^^^^^^^^^^^^^^^^^^^^\n",
       "  File \"<string>\", line 1, in <module>\n",
       "AttributeError: 'mujoco._structs.MjModel' object has no attribute 'sensor_name'\n",
       "\n"
      ]
     },
     "metadata": {},
     "output_type": "display_data"
    }
   ],
   "source": [
    "model.sensor_name"
   ]
  },
  {
   "cell_type": "code",
   "execution_count": null,
   "id": "800d88bc",
   "metadata": {},
   "outputs": [
    {
     "data": {
      "text/plain": [
       "31\n"
      ]
     },
     "metadata": {},
     "output_type": "display_data"
    }
   ],
   "source": [
    "model.nsensor"
   ]
  },
  {
   "cell_type": "code",
   "execution_count": null,
   "id": "4978e079",
   "metadata": {},
   "outputs": [],
   "source": [
    "for i in range(model.nsensor):\n",
    "    print(model.sensor(i))"
   ]
  }
 ],
 "metadata": {
  "language_info": {
   "name": "python"
  }
 },
 "nbformat": 4,
 "nbformat_minor": 5
}
